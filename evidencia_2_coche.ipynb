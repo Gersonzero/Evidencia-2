{
  "nbformat": 4,
  "nbformat_minor": 0,
  "metadata": {
    "colab": {
      "provenance": []
    },
    "kernelspec": {
      "name": "python3",
      "display_name": "Python 3"
    },
    "language_info": {
      "name": "python"
    }
  },
  "cells": [
    {
      "cell_type": "code",
      "execution_count": 1,
      "metadata": {
        "id": "6BiWtnHnFD3s"
      },
      "outputs": [],
      "source": [
        "\n",
        "   class Coche:\n",
        "    def __init__(self, marca, modelo, anio):\n",
        "        # Constructor: inicializa los atributos del coche\n",
        "        self.marca = marca\n",
        "        self.modelo = modelo\n",
        "        self.año = año\n",
        "        self.velocidad = 0\n",
        "\n",
        "    @property\n",
        "    def descripcion(self):\n",
        "        # Propiedad: devuelve una descripción del coche\n",
        "        return f\"{self.marca} {self.modelo} {self.año}\"\n",
        "\n",
        "    def acelerar(self, incremento):\n",
        "        # Método: aumenta la velocidad del coche\n",
        "        self.velocidad += incremento\n",
        "        print(f\"El coche ahora va a {self.velocidad} km/h\")\n",
        "\n",
        "    def frenar(self, decremento):\n",
        "        # Método: reduce la velocidad del coche\n",
        "        self.velocidad -= decremento\n",
        "        if self.velocidad < 0:\n",
        "            self.velocidad = 0\n",
        "        print(f\"El coche ahora va a {self.velocidad} km/h\")\n"
      ]
    }
  ]
}